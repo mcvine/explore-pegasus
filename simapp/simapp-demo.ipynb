{
 "cells": [
  {
   "cell_type": "code",
   "execution_count": 1,
   "metadata": {},
   "outputs": [
    {
     "name": "stdout",
     "output_type": "stream",
     "text": [
      "\u001b[0m\u001b[01;32msimapp1\u001b[0m*  simapp1.pml  simapp-demo.ipynb\r\n"
     ]
    }
   ],
   "source": [
    "ls"
   ]
  },
  {
   "cell_type": "markdown",
   "metadata": {},
   "source": [
    "Run simulation using 10 nodes"
   ]
  },
  {
   "cell_type": "code",
   "execution_count": 2,
   "metadata": {},
   "outputs": [
    {
     "name": "stdout",
     "output_type": "stream",
     "text": [
      "Source_simple: initialized.\n",
      "Source_simple: initialized.\n",
      "Source_simple: initialized.\n",
      "Source_simple: initialized.\n",
      "Source_simple: initialized.\n",
      "Source_simple: initialized.\n",
      "Source_simple: initialized.\n",
      "E_monitor: initialized. E window=30,90, x window=-0.1,0.1, y window = -0.1, 0.1\n",
      "Source_simple: initialized.\n",
      "Source_simple: initialized.\n",
      "E_monitor: initialized. E window=30,90, x window=-0.1,0.1, y window = -0.1, 0.1\n",
      "Source_simple: initialized.\n",
      "E_monitor: initialized. E window=30,90, x window=-0.1,0.1, y window = -0.1, 0.1\n",
      "E_monitor: initialized. E window=30,90, x window=-0.1,0.1, y window = -0.1, 0.1\n",
      "E_monitor: initialized. E window=30,90, x window=-0.1,0.1, y window = -0.1, 0.1\n",
      "E_monitor: initialized. E window=30,90, x window=-0.1,0.1, y window = -0.1, 0.1\n",
      "E_monitor: initialized. E window=30,90, x window=-0.1,0.1, y window = -0.1, 0.1\n",
      "E_monitor: initialized. E window=30,90, x window=-0.1,0.1, y window = -0.1, 0.1\n",
      "E_monitor: initialized. E window=30,90, x window=-0.1,0.1, y window = -0.1, 0.1\n",
      "E_monitor: initialized. E window=30,90, x window=-0.1,0.1, y window = -0.1, 0.1\n",
      "<E> : 59.9626 meV , E-width : 5.77404 meV \n",
      "E_monitor: saved data to file 'IE.dat'.\n",
      "E_monitor: finalized.\n",
      "finalize component \"monitor\"\n",
      "<E> : 59.9785 meV , E-width : 5.78056 meV \n",
      "E_monitor: saved data to file 'IE.dat'.\n",
      "E_monitor: finalized.\n",
      "finalize component \"monitor\"\n",
      "<E> : 59.9895 meV , E-width : 5.78542 meV \n",
      "E_monitor: saved data to file 'IE.dat'.\n",
      "E_monitor: finalized.\n",
      "finalize component \"monitor\"\n",
      "<E> : 60.0936 meV , E-width : 5.79713 meV \n",
      "E_monitor: saved data to file 'IE.dat'.\n",
      "E_monitor: finalized.\n",
      "finalize component \"monitor\"\n",
      "<E> : 60.0131 meV , E-width : 5.77644 meV \n",
      "E_monitor: saved data to file 'IE.dat'.\n",
      "E_monitor: finalized.\n",
      "finalize component \"monitor\"\n",
      "<E> : 59.9465 meV , E-width : 5.80277 meV \n",
      "E_monitor: saved data to file 'IE.dat'.\n",
      "E_monitor: finalized.\n",
      "finalize component \"monitor\"\n",
      "<E> : 59.9846 meV , E-width : 5.77234 meV \n",
      "E_monitor: saved data to file 'IE.dat'.\n",
      "E_monitor: finalized.\n",
      "finalize component \"monitor\"\n",
      "<E> : 59.9901 meV , E-width : 5.78501 meV \n",
      "E_monitor: saved data to file 'IE.dat'.\n",
      "E_monitor: finalized.\n",
      "finalize component \"monitor\"\n",
      "<E> : 60.0065 meV , E-width : 5.76903 meV \n",
      "E_monitor: saved data to file 'IE.dat'.\n",
      "E_monitor: finalized.\n",
      "finalize component \"monitor\"\n",
      "<E> : 60.041 meV , E-width : 5.73993 meV \n",
      "E_monitor: saved data to file 'IE.dat'.\n",
      "E_monitor: finalized.\n",
      "finalize component \"monitor\"\n",
      "E_monitor: initialized. E window=30,90, x window=-0.1,0.1, y window = -0.1, 0.1\n",
      "E_monitor: initialized. E window=30,90, x window=-0.1,0.1, y window = -0.1, 0.1\n",
      "E_monitor: initialized. E window=30,90, x window=-0.1,0.1, y window = -0.1, 0.1\n",
      "<E> : 60.0528 meV , E-width : 5.79204 meV \n",
      "E_monitor: saved data to file 'IE.dat'.\n",
      "E_monitor: finalized.\n",
      "finalize component \"monitor\"\n",
      "<E> : 60.0714 meV , E-width : 5.77151 meV \n",
      "E_monitor: saved data to file 'IE.dat'.\n",
      "E_monitor: finalized.\n",
      "finalize component \"monitor\"\n",
      "<E> : 59.9468 meV , E-width : 5.75138 meV \n",
      "E_monitor: saved data to file 'IE.dat'.\n",
      "E_monitor: finalized.\n",
      "finalize component \"monitor\"\n",
      "E_monitor: initialized. E window=30,90, x window=-0.1,0.1, y window = -0.1, 0.1\n",
      "E_monitor: initialized. E window=30,90, x window=-0.1,0.1, y window = -0.1, 0.1\n",
      "<E> : 59.9551 meV , E-width : 5.76723 meV \n",
      "E_monitor: saved data to file 'IE.dat'.\n",
      "E_monitor: finalized.\n",
      "finalize component \"monitor\"\n",
      "<E> : 59.9472 meV , E-width : 5.79355 meV \n",
      "E_monitor: saved data to file 'IE.dat'.\n",
      "E_monitor: finalized.\n",
      "finalize component \"monitor\"\n",
      "E_monitor: initialized. E window=30,90, x window=-0.1,0.1, y window = -0.1, 0.1\n",
      "E_monitor: initialized. E window=30,90, x window=-0.1,0.1, y window = -0.1, 0.1\n",
      "E_monitor: initialized. E window=30,90, x window=-0.1,0.1, y window = -0.1, 0.1\n",
      "<E> : 59.972 meV , E-width : 5.76542 meV \n",
      "E_monitor: saved data to file 'IE.dat'.\n",
      "E_monitor: finalized.\n",
      "finalize component \"monitor\"\n",
      "<E> : 60.0093 meV , E-width : 5.77414 meV \n",
      "E_monitor: saved data to file 'IE.dat'.\n",
      "E_monitor: finalized.\n",
      "finalize component \"monitor\"\n",
      "E_monitor: initialized. E window=30,90, x window=-0.1,0.1, y window = -0.1, 0.1\n",
      "E_monitor: initialized. E window=30,90, x window=-0.1,0.1, y window = -0.1, 0.1\n",
      "<E> : 59.9549 meV , E-width : 5.75856 meV \n",
      "E_monitor: saved data to file 'IE.dat'.\n",
      "E_monitor: finalized.\n",
      "finalize component \"monitor\"\n",
      "<E> : 59.9981 meV , E-width : 5.74723 meV \n",
      "E_monitor: saved data to file 'IE.dat'.\n",
      "E_monitor: finalized.\n",
      "finalize component \"monitor\"\n",
      "<E> : 59.9746 meV , E-width : 5.76372 meV \n",
      "E_monitor: saved data to file 'IE.dat'.\n",
      "E_monitor: finalized.\n",
      "finalize component \"monitor\"\n",
      "E_monitor: initialized. E window=30,90, x window=-0.1,0.1, y window = -0.1, 0.1\n",
      "E_monitor: initialized. E window=30,90, x window=-0.1,0.1, y window = -0.1, 0.1\n",
      "E_monitor: initialized. E window=30,90, x window=-0.1,0.1, y window = -0.1, 0.1\n",
      "<E> : 59.9885 meV , E-width : 5.76597 meV \n",
      "E_monitor: saved data to file 'IE.dat'.\n",
      "E_monitor: finalized.\n",
      "finalize component \"monitor\"\n",
      "<E> : 59.9861 meV , E-width : 5.7741 meV \n",
      "E_monitor: saved data to file 'IE.dat'.\n",
      "E_monitor: finalized.\n",
      "finalize component \"monitor\"\n",
      "<E> : 59.9896 meV , E-width : 5.73858 meV \n",
      "E_monitor: saved data to file 'IE.dat'.\n",
      "E_monitor: finalized.\n",
      "finalize component \"monitor\"\n",
      "E_monitor: initialized. E window=30,90, x window=-0.1,0.1, y window = -0.1, 0.1\n",
      "E_monitor: initialized. E window=30,90, x window=-0.1,0.1, y window = -0.1, 0.1\n",
      "<E> : 60.0101 meV , E-width : 5.78589 meV \n",
      "E_monitor: saved data to file 'IE.dat'.\n",
      "E_monitor: finalized.\n",
      "finalize component \"monitor\"\n",
      "E_monitor: initialized. E window=30,90, x window=-0.1,0.1, y window = -0.1, 0.1\n",
      "<E> : 59.9762 meV , E-width : 5.78988 meV \n",
      "E_monitor: saved data to file 'IE.dat'.\n",
      "E_monitor: finalized.\n",
      "finalize component \"monitor\"\n",
      "E_monitor: initialized. E window=30,90, x window=-0.1,0.1, y window = -0.1, 0.1\n",
      "<E> : 59.9627 meV , E-width : 5.75006 meV \n",
      "E_monitor: saved data to file 'IE.dat'.\n",
      "E_monitor: finalized.\n",
      "finalize component \"monitor\"\n",
      "E_monitor: initialized. E window=30,90, x window=-0.1,0.1, y window = -0.1, 0.1\n",
      "E_monitor: initialized. E window=30,90, x window=-0.1,0.1, y window = -0.1, 0.1\n",
      "<E> : 59.9794 meV , E-width : 5.77604 meV \n",
      "E_monitor: saved data to file 'IE.dat'.\n",
      "E_monitor: finalized.\n",
      "finalize component \"monitor\"\n",
      "E_monitor: initialized. E window=30,90, x window=-0.1,0.1, y window = -0.1, 0.1\n",
      "<E> : 59.9591 meV , E-width : 5.78131 meV \n",
      "E_monitor: saved data to file 'IE.dat'.\n",
      "E_monitor: finalized.\n",
      "finalize component \"monitor\"\n",
      "<E> : 60.0328 meV , E-width : 5.7549 meV \n",
      "E_monitor: saved data to file 'IE.dat'.\n",
      "E_monitor: finalized.\n",
      "finalize component \"monitor\"\n",
      "<E> : 60.0113 meV , E-width : 5.76819 meV \n",
      "E_monitor: saved data to file 'IE.dat'.\n",
      "E_monitor: finalized.\n",
      "finalize component \"monitor\"\n",
      "E_monitor: initialized. E window=30,90, x window=-0.1,0.1, y window = -0.1, 0.1\n",
      "E_monitor: initialized. E window=30,90, x window=-0.1,0.1, y window = -0.1, 0.1\n",
      "E_monitor: initialized. E window=30,90, x window=-0.1,0.1, y window = -0.1, 0.1\n",
      "<E> : 59.9748 meV , E-width : 5.74618 meV \n",
      "E_monitor: saved data to file 'IE.dat'.\n",
      "E_monitor: finalized.\n",
      "finalize component \"monitor\"\n",
      "<E> : 59.9815 meV , E-width : 5.74662 meV \n",
      "E_monitor: saved data to file 'IE.dat'.\n",
      "E_monitor: finalized.\n",
      "finalize component \"monitor\"\n",
      "<E> : 60.0124 meV , E-width : 5.77068 meV \n",
      "E_monitor: saved data to file 'IE.dat'.\n",
      "E_monitor: finalized.\n",
      "finalize component \"monitor\"\n",
      "E_monitor: initialized. E window=30,90, x window=-0.1,0.1, y window = -0.1, 0.1\n",
      "E_monitor: initialized. E window=30,90, x window=-0.1,0.1, y window = -0.1, 0.1\n",
      "<E> : 60.027 meV , E-width : 5.74018 meV \n",
      "E_monitor: saved data to file 'IE.dat'.\n",
      "E_monitor: finalized.\n",
      "finalize component \"monitor\"\n",
      "<E> : 60.0283 meV , E-width : 5.78457 meV \n",
      "E_monitor: saved data to file 'IE.dat'.\n",
      "E_monitor: finalized.\n",
      "finalize component \"monitor\"\n",
      "E_monitor: initialized. E window=30,90, x window=-0.1,0.1, y window = -0.1, 0.1\n",
      "E_monitor: initialized. E window=30,90, x window=-0.1,0.1, y window = -0.1, 0.1\n",
      "<E> : 59.9652 meV , E-width : 5.77632 meV \n",
      "E_monitor: saved data to file 'IE.dat'.\n",
      "E_monitor: finalized.\n",
      "finalize component \"monitor\"\n",
      "E_monitor: initialized. E window=30,90, x window=-0.1,0.1, y window = -0.1, 0.1\n",
      "E_monitor: initialized. E window=30,90, x window=-0.1,0.1, y window = -0.1, 0.1\n",
      "<E> : 59.9759 meV , E-width : 5.77929 meV \n",
      "E_monitor: saved data to file 'IE.dat'.\n",
      "E_monitor: finalized.\n",
      "finalize component \"monitor\"\n",
      "E_monitor: initialized. E window=30,90, x window=-0.1,0.1, y window = -0.1, 0.1\n",
      "<E> : 60.0067 meV , E-width : 5.77876 meV \n",
      "E_monitor: saved data to file 'IE.dat'.\n",
      "E_monitor: finalized.\n",
      "finalize component \"monitor\"\n",
      "<E> : 60.0211 meV , E-width : 5.78855 meV \n",
      "E_monitor: saved data to file 'IE.dat'.\n",
      "E_monitor: finalized.\n",
      "finalize component \"monitor\"\n",
      "<E> : 60.0531 meV , E-width : 5.75928 meV \n",
      "E_monitor: saved data to file 'IE.dat'.\n",
      "E_monitor: finalized.\n",
      "finalize component \"monitor\"\n",
      "E_monitor: initialized. E window=30,90, x window=-0.1,0.1, y window = -0.1, 0.1\n",
      "E_monitor: initialized. E window=30,90, x window=-0.1,0.1, y window = -0.1, 0.1\n",
      "E_monitor: initialized. E window=30,90, x window=-0.1,0.1, y window = -0.1, 0.1\n",
      "<E> : 59.9891 meV , E-width : 5.78689 meV \n",
      "E_monitor: saved data to file 'IE.dat'.\n",
      "E_monitor: finalized.\n",
      "finalize component \"monitor\"\n",
      "E_monitor: initialized. E window=30,90, x window=-0.1,0.1, y window = -0.1, 0.1\n",
      "<E> : 60.0734 meV , E-width : 5.77919 meV \n",
      "E_monitor: saved data to file 'IE.dat'.\n",
      "E_monitor: finalized.\n",
      "finalize component \"monitor\"\n",
      "<E> : 60.0438 meV , E-width : 5.77439 meV \n",
      "E_monitor: saved data to file 'IE.dat'.\n",
      "E_monitor: finalized.\n",
      "finalize component \"monitor\"\n",
      "E_monitor: initialized. E window=30,90, x window=-0.1,0.1, y window = -0.1, 0.1\n",
      "<E> : 60.0425 meV , E-width : 5.75715 meV \n",
      "E_monitor: saved data to file 'IE.dat'.\n",
      "E_monitor: finalized.\n",
      "finalize component \"monitor\"\n",
      "E_monitor: initialized. E window=30,90, x window=-0.1,0.1, y window = -0.1, 0.1\n",
      "(0.78, 0.55, 0.0, 0.0, 19255183.36)\n",
      "finalize component \"source\"\n",
      "(0.85, 0.57, 0.0, 0.0, 19255183.36)\n",
      "finalize component \"source\"\n",
      "(0.82, 0.43, 0.0, 0.0, 19255183.37)\n",
      "finalize component \"source\"\n",
      "<E> : 59.9761 meV , E-width : 5.74307 meV \n",
      "E_monitor: saved data to file 'IE.dat'.\n",
      "E_monitor: finalized.\n",
      "finalize component \"monitor\"\n",
      "<E> : 60.0219 meV , E-width : 5.75016 meV \n",
      "E_monitor: saved data to file 'IE.dat'.\n",
      "E_monitor: finalized.\n",
      "finalize component \"monitor\"\n",
      "(0.78, 0.4, 0.0, 0.0, 19255183.37)\n",
      "finalize component \"source\"\n",
      "E_monitor: initialized. E window=30,90, x window=-0.1,0.1, y window = -0.1, 0.1\n",
      "E_monitor: initialized. E window=30,90, x window=-0.1,0.1, y window = -0.1, 0.1\n",
      "<E> : 60.0293 meV , E-width : 5.76235 meV \n",
      "E_monitor: saved data to file 'IE.dat'.\n",
      "E_monitor: finalized.\n",
      "finalize component \"monitor\"\n",
      "(0.85, 0.28, 0.0, 0.0, 19255183.38)\n",
      "(0.82, 0.47, 0.0, 0.0, 19255183.38)\n",
      "finalize component \"source\"\n",
      "finalize component \"source\"\n",
      "E_monitor: initialized. E window=30,90, x window=-0.1,0.1, y window = -0.1, 0.1\n",
      "E_monitor: initialized. E window=30,90, x window=-0.1,0.1, y window = -0.1, 0.1\n",
      "<E> : 60.0105 meV , E-width : 5.762 meV \n",
      "E_monitor: saved data to file 'IE.dat'.\n",
      "E_monitor: finalized.\n",
      "finalize component \"monitor\"\n",
      "<E> : 60.0588 meV , E-width : 5.77018 meV \n",
      "E_monitor: saved data to file 'IE.dat'.\n",
      "E_monitor: finalized.\n",
      "finalize component \"monitor\"\n",
      "(0.96, 0.5, 0.0, 0.0, 19255183.4)\n",
      "finalize component \"source\"\n",
      "(0.88, 0.51, 0.0, 0.0, 19255183.4)\n",
      "finalize component \"source\"\n",
      "<E> : 60.0348 meV , E-width : 5.79494 meV \n",
      "E_monitor: saved data to file 'IE.dat'.\n",
      "E_monitor: finalized.\n",
      "finalize component \"monitor\"\n",
      "(0.85, 0.23, 0.0, 0.0, 19255183.41)\n",
      "finalize component \"source\"\n",
      "(0.86, 0.36, 0.0, 0.0, 19255183.43)\n",
      "finalize component \"source\"\n"
     ]
    }
   ],
   "source": [
    "%%bash\n",
    "rm -rf out\n",
    "./simapp1 --ncount=1e6 --mpirun.nodes=10"
   ]
  },
  {
   "cell_type": "markdown",
   "metadata": {},
   "source": [
    "Check output"
   ]
  },
  {
   "cell_type": "code",
   "execution_count": 3,
   "metadata": {},
   "outputs": [
    {
     "name": "stdout",
     "output_type": "stream",
     "text": [
      "-rw-r--r-- 1 lj7 users 16408 Jul 11 23:46 out/IE.h5\r\n"
     ]
    }
   ],
   "source": [
    "ls -l out/*.h5"
   ]
  },
  {
   "cell_type": "markdown",
   "metadata": {},
   "source": [
    "Load output"
   ]
  },
  {
   "cell_type": "code",
   "execution_count": 4,
   "metadata": {
    "collapsed": true
   },
   "outputs": [],
   "source": [
    "import histogram.hdf as hh"
   ]
  },
  {
   "cell_type": "code",
   "execution_count": 5,
   "metadata": {
    "collapsed": true
   },
   "outputs": [],
   "source": [
    "IE = hh.load('out/IE.h5')"
   ]
  },
  {
   "cell_type": "markdown",
   "metadata": {},
   "source": [
    "Plot"
   ]
  },
  {
   "cell_type": "code",
   "execution_count": 6,
   "metadata": {
    "collapsed": true
   },
   "outputs": [],
   "source": [
    "from matplotlib import pyplot as plt\n",
    "%matplotlib inline"
   ]
  },
  {
   "cell_type": "code",
   "execution_count": 7,
   "metadata": {},
   "outputs": [
    {
     "data": {
      "text/plain": [
       "[<matplotlib.lines.Line2D at 0x7f948f245e90>]"
      ]
     },
     "execution_count": 7,
     "metadata": {},
     "output_type": "execute_result"
    },
    {
     "data": {
      "image/png": "[encoded data removed]",
      "text/plain": [
       "<matplotlib.figure.Figure at 0x7f949e2050d0>"
      ]
     },
     "metadata": {},
     "output_type": "display_data"
    }
   ],
   "source": [
    "plt.plot(IE.energy, IE.I)"
   ]
  },
  {
   "cell_type": "code",
   "execution_count": null,
   "metadata": {
    "collapsed": true
   },
   "outputs": [],
   "source": []
  }
 ],
 "metadata": {
  "kernelspec": {
   "display_name": "dev-mcvine",
   "language": "python",
   "name": "dev-mcvine"
  },
  "language_info": {
   "codemirror_mode": {
    "name": "ipython",
    "version": 2
   },
   "file_extension": ".py",
   "mimetype": "text/x-python",
   "name": "python",
   "nbconvert_exporter": "python",
   "pygments_lexer": "ipython2",
   "version": "2.7.12"
  }
 },
 "nbformat": 4,
 "nbformat_minor": 2
}
